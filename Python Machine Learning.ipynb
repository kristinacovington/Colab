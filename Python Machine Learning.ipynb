{
  "nbformat": 4,
  "nbformat_minor": 0,
  "metadata": {
    "colab": {
      "name": "Untitled2.ipynb",
      "provenance": [],
      "authorship_tag": "ABX9TyN2qDrMEtEahhkky4QBaAb/",
      "include_colab_link": true
    },
    "kernelspec": {
      "name": "python3",
      "display_name": "Python 3"
    }
  },
  "cells": [
    {
      "cell_type": "markdown",
      "metadata": {
        "id": "view-in-github",
        "colab_type": "text"
      },
      "source": [
        "<a href=\"https://colab.research.google.com/github/kristinacovington/Colab/blob/master/Python%20Machine%20Learning.ipynb\" target=\"_parent\"><img src=\"https://colab.research.google.com/assets/colab-badge.svg\" alt=\"Open In Colab\"/></a>"
      ]
    },
    {
      "cell_type": "markdown",
      "metadata": {
        "id": "LwUa1dmH7Jmr",
        "colab_type": "text"
      },
      "source": [
        "# Python Machine Learning\n",
        "\n",
        "Notes from http://scipy-lectures.org/ and Building Machine Learning Systems with Python by Willi Richert and Luis Pedro Coelho\n"
      ]
    },
    {
      "cell_type": "markdown",
      "metadata": {
        "id": "qTpJiUXjQDPv",
        "colab_type": "text"
      },
      "source": [
        "importing numpy, scipy and matplotlib"
      ]
    },
    {
      "cell_type": "code",
      "metadata": {
        "id": "mHTjMPfwQAXH",
        "colab_type": "code",
        "colab": {}
      },
      "source": [
        "import numpy as np\n",
        "import matplotlib.pyplot as plt\n",
        "import scipy as sp\n",
        "import sklearn as sl"
      ],
      "execution_count": 2,
      "outputs": []
    },
    {
      "cell_type": "markdown",
      "metadata": {
        "id": "HetI4z9g7ErN",
        "colab_type": "text"
      },
      "source": [
        "## NumPy\n",
        "\n",
        "* extension package to Python for **multi-dimensional arrays**\n",
        "* designed for scientific computation (**convenience**)\n",
        "* **Memory-efficient** container that provides **fast numerical operations**."
      ]
    },
    {
      "cell_type": "code",
      "metadata": {
        "id": "DL64TfWh9BQs",
        "colab_type": "code",
        "colab": {
          "base_uri": "https://localhost:8080/",
          "height": 68
        },
        "outputId": "88b7fdbc-50be-4182-ea96-f0bf8de33801"
      },
      "source": [
        "L = range(1000)\n",
        "%timeit [i**2 for i in L]\n",
        "\n",
        "a = np.arange(1000)\n",
        "%timeit a**2\n"
      ],
      "execution_count": null,
      "outputs": [
        {
          "output_type": "stream",
          "text": [
            "1000 loops, best of 3: 237 µs per loop\n",
            "The slowest run took 34.29 times longer than the fastest. This could mean that an intermediate result is being cached.\n",
            "1000000 loops, best of 3: 1.22 µs per loop\n"
          ],
          "name": "stdout"
        }
      ]
    },
    {
      "cell_type": "markdown",
      "metadata": {
        "id": "nxsBwRnqCsW_",
        "colab_type": "text"
      },
      "source": [
        "create a array"
      ]
    },
    {
      "cell_type": "code",
      "metadata": {
        "id": "dQqc44ksCmkm",
        "colab_type": "code",
        "colab": {
          "base_uri": "https://localhost:8080/",
          "height": 34
        },
        "outputId": "68d9c077-b76e-402a-e223-26b1935b90e7"
      },
      "source": [
        "a = np.array([0,1,2,3,4,5])\n",
        "a"
      ],
      "execution_count": null,
      "outputs": [
        {
          "output_type": "execute_result",
          "data": {
            "text/plain": [
              "array([0, 1, 2, 3, 4, 5])"
            ]
          },
          "metadata": {
            "tags": []
          },
          "execution_count": 432
        }
      ]
    },
    {
      "cell_type": "markdown",
      "metadata": {
        "id": "UfgcjLTpFsY_",
        "colab_type": "text"
      },
      "source": [
        "operations are propagated to individual elements"
      ]
    },
    {
      "cell_type": "code",
      "metadata": {
        "id": "EQrecNIvFrUF",
        "colab_type": "code",
        "colab": {
          "base_uri": "https://localhost:8080/",
          "height": 34
        },
        "outputId": "a566fce8-225d-4076-d42e-8ff3e6ffaa2c"
      },
      "source": [
        "a*2"
      ],
      "execution_count": null,
      "outputs": [
        {
          "output_type": "execute_result",
          "data": {
            "text/plain": [
              "array([ 0,  2,  4,  6,  8, 10])"
            ]
          },
          "metadata": {
            "tags": []
          },
          "execution_count": 42
        }
      ]
    },
    {
      "cell_type": "markdown",
      "metadata": {
        "id": "hbh1_eWT_6aH",
        "colab_type": "text"
      },
      "source": [
        "### numpy.reshape\n",
        "\n",
        "**`Gives a new shape to an array without changing its data.`**"
      ]
    },
    {
      "cell_type": "markdown",
      "metadata": {
        "id": "MthoNWtdC3iH",
        "colab_type": "text"
      },
      "source": [
        "b is reshaped to a multi-dimensional array"
      ]
    },
    {
      "cell_type": "code",
      "metadata": {
        "id": "NzfjXywV-G0U",
        "colab_type": "code",
        "colab": {
          "base_uri": "https://localhost:8080/",
          "height": 68
        },
        "outputId": "5271b4b1-9aff-4ded-e5a5-bcfe1244d994"
      },
      "source": [
        "b = a.reshape((3,2))\n",
        "b"
      ],
      "execution_count": null,
      "outputs": [
        {
          "output_type": "execute_result",
          "data": {
            "text/plain": [
              "array([[0, 1],\n",
              "       [2, 3],\n",
              "       [4, 5]])"
            ]
          },
          "metadata": {
            "tags": []
          },
          "execution_count": 433
        }
      ]
    },
    {
      "cell_type": "markdown",
      "metadata": {
        "id": "t59urpoeLE4P",
        "colab_type": "text"
      },
      "source": [
        "### numpy.copy\n"
      ]
    },
    {
      "cell_type": "markdown",
      "metadata": {
        "id": "o9rJAohJDAtU",
        "colab_type": "text"
      },
      "source": [
        "modify element in b"
      ]
    },
    {
      "cell_type": "code",
      "metadata": {
        "id": "w936SDRgDDy6",
        "colab_type": "code",
        "colab": {
          "base_uri": "https://localhost:8080/",
          "height": 68
        },
        "outputId": "45a559dd-6954-4f7e-e2e4-ad40fd8779d1"
      },
      "source": [
        "b[1][0]=77\n",
        "b"
      ],
      "execution_count": null,
      "outputs": [
        {
          "output_type": "execute_result",
          "data": {
            "text/plain": [
              "array([[ 0,  1],\n",
              "       [77,  3],\n",
              "       [ 4,  5]])"
            ]
          },
          "metadata": {
            "tags": []
          },
          "execution_count": 46
        }
      ]
    },
    {
      "cell_type": "markdown",
      "metadata": {
        "id": "OXzrx8_YCcN-",
        "colab_type": "text"
      },
      "source": [
        "a got modified because **numpy optimization avoids copying**"
      ]
    },
    {
      "cell_type": "code",
      "metadata": {
        "id": "JE5McH4sCRgF",
        "colab_type": "code",
        "colab": {
          "base_uri": "https://localhost:8080/",
          "height": 34
        },
        "outputId": "45fade13-9d88-47c3-e311-274dd27b6dc6"
      },
      "source": [
        "a"
      ],
      "execution_count": null,
      "outputs": [
        {
          "output_type": "execute_result",
          "data": {
            "text/plain": [
              "array([ 0,  1, 77,  3,  4,  5])"
            ]
          },
          "metadata": {
            "tags": []
          },
          "execution_count": 47
        }
      ]
    },
    {
      "cell_type": "markdown",
      "metadata": {
        "id": "Ag3lwaiIECy1",
        "colab_type": "text"
      },
      "source": [
        "create a true copy of a"
      ]
    },
    {
      "cell_type": "code",
      "metadata": {
        "id": "1YBbi3IyEFak",
        "colab_type": "code",
        "colab": {
          "base_uri": "https://localhost:8080/",
          "height": 68
        },
        "outputId": "d20b6450-b236-46b2-f0af-6d962370d94a"
      },
      "source": [
        "c = a.reshape((3,2)).copy()\n",
        "c[0][0] = -99\n",
        "c"
      ],
      "execution_count": null,
      "outputs": [
        {
          "output_type": "execute_result",
          "data": {
            "text/plain": [
              "array([[-99,   1],\n",
              "       [  2,   3],\n",
              "       [  4,   5]])"
            ]
          },
          "metadata": {
            "tags": []
          },
          "execution_count": 437
        }
      ]
    },
    {
      "cell_type": "markdown",
      "metadata": {
        "id": "XSvc5gmUEbXb",
        "colab_type": "text"
      },
      "source": [
        "verify c is a true copy of a"
      ]
    },
    {
      "cell_type": "code",
      "metadata": {
        "id": "tAsB91OgEQ-H",
        "colab_type": "code",
        "colab": {
          "base_uri": "https://localhost:8080/",
          "height": 34
        },
        "outputId": "e148f04e-c335-4cd4-bbe7-e1cccc63505e"
      },
      "source": [
        "a"
      ],
      "execution_count": null,
      "outputs": [
        {
          "output_type": "execute_result",
          "data": {
            "text/plain": [
              "array([ 0,  1, 77,  3,  4,  5])"
            ]
          },
          "metadata": {
            "tags": []
          },
          "execution_count": 49
        }
      ]
    },
    {
      "cell_type": "markdown",
      "metadata": {
        "id": "nnJ8yqkPSSi9",
        "colab_type": "text"
      },
      "source": [
        "### numpy.flatten\n",
        "\n",
        "flattens our array"
      ]
    },
    {
      "cell_type": "code",
      "metadata": {
        "id": "9ra5YygZSXWz",
        "colab_type": "code",
        "colab": {
          "base_uri": "https://localhost:8080/",
          "height": 34
        },
        "outputId": "a3b4697d-6b9b-47bd-8e10-dd03a1a552b7"
      },
      "source": [
        "c.flatten()"
      ],
      "execution_count": null,
      "outputs": [
        {
          "output_type": "execute_result",
          "data": {
            "text/plain": [
              "array([-99,   1,   2,   3,   4,   5])"
            ]
          },
          "metadata": {
            "tags": []
          },
          "execution_count": 438
        }
      ]
    },
    {
      "cell_type": "markdown",
      "metadata": {
        "id": "ra_OlLpVAX3Z",
        "colab_type": "text"
      },
      "source": [
        "### numpy.empty\n",
        "\n",
        "empty, unlike zeros, **does not set the array values to zero, and may therefore be marginally faster**. On the other hand, it requires the user to manually set all the values in the array, and should be used with caution."
      ]
    },
    {
      "cell_type": "code",
      "metadata": {
        "id": "EOsRco7d-6tG",
        "colab_type": "code",
        "colab": {
          "base_uri": "https://localhost:8080/",
          "height": 51
        },
        "outputId": "ca327b6a-db7b-4e0b-85fa-de13398c3e97"
      },
      "source": [
        "np.empty([2, 2])"
      ],
      "execution_count": null,
      "outputs": [
        {
          "output_type": "execute_result",
          "data": {
            "text/plain": [
              "array([[278.877     ,  61.67181713],\n",
              "       [294.752     ,  71.67181713]])"
            ]
          },
          "metadata": {
            "tags": []
          },
          "execution_count": 50
        }
      ]
    },
    {
      "cell_type": "markdown",
      "metadata": {
        "id": "RtOv3nrYId5m",
        "colab_type": "text"
      },
      "source": [
        "### numpy.ma\n",
        "\n",
        "**dealing with (propagation of) missing data**\n",
        "\n",
        "**numpy.genfromtxt** does similar for txt files"
      ]
    },
    {
      "cell_type": "code",
      "metadata": {
        "id": "0pBPdTSgIc2g",
        "colab_type": "code",
        "colab": {
          "base_uri": "https://localhost:8080/",
          "height": 68
        },
        "outputId": "cfb5fea3-8ccd-4f65-a31f-37ba5f0e7659"
      },
      "source": [
        "x = np.ma.array([1, 2, 3, 4], mask=[0, 1, 0, 1])\n",
        "x"
      ],
      "execution_count": null,
      "outputs": [
        {
          "output_type": "execute_result",
          "data": {
            "text/plain": [
              "masked_array(data=[1, --, 3, --],\n",
              "             mask=[False,  True, False,  True],\n",
              "       fill_value=999999)"
            ]
          },
          "metadata": {
            "tags": []
          },
          "execution_count": 55
        }
      ]
    },
    {
      "cell_type": "markdown",
      "metadata": {
        "id": "VrO9Ul1aPMSu",
        "colab_type": "text"
      },
      "source": [
        "### numpy.linspace\n",
        "\n",
        "evenly spaced numbers over a specified interval"
      ]
    },
    {
      "cell_type": "code",
      "metadata": {
        "id": "HutoM6P2PLws",
        "colab_type": "code",
        "colab": {
          "base_uri": "https://localhost:8080/",
          "height": 221
        },
        "outputId": "9c43476b-5a04-44b5-f49e-24c913e391a5"
      },
      "source": [
        "days = np.linspace(0, 1, num=60)\n",
        "days"
      ],
      "execution_count": null,
      "outputs": [
        {
          "output_type": "execute_result",
          "data": {
            "text/plain": [
              "array([0.        , 0.01694915, 0.03389831, 0.05084746, 0.06779661,\n",
              "       0.08474576, 0.10169492, 0.11864407, 0.13559322, 0.15254237,\n",
              "       0.16949153, 0.18644068, 0.20338983, 0.22033898, 0.23728814,\n",
              "       0.25423729, 0.27118644, 0.28813559, 0.30508475, 0.3220339 ,\n",
              "       0.33898305, 0.3559322 , 0.37288136, 0.38983051, 0.40677966,\n",
              "       0.42372881, 0.44067797, 0.45762712, 0.47457627, 0.49152542,\n",
              "       0.50847458, 0.52542373, 0.54237288, 0.55932203, 0.57627119,\n",
              "       0.59322034, 0.61016949, 0.62711864, 0.6440678 , 0.66101695,\n",
              "       0.6779661 , 0.69491525, 0.71186441, 0.72881356, 0.74576271,\n",
              "       0.76271186, 0.77966102, 0.79661017, 0.81355932, 0.83050847,\n",
              "       0.84745763, 0.86440678, 0.88135593, 0.89830508, 0.91525424,\n",
              "       0.93220339, 0.94915254, 0.96610169, 0.98305085, 1.        ])"
            ]
          },
          "metadata": {
            "tags": []
          },
          "execution_count": 429
        }
      ]
    },
    {
      "cell_type": "markdown",
      "metadata": {
        "id": "q3fEpflrIcSs",
        "colab_type": "text"
      },
      "source": [
        "### numpy.clip\n",
        "\n",
        "**trimming outliers**"
      ]
    },
    {
      "cell_type": "code",
      "metadata": {
        "id": "9iLdktpyJLxw",
        "colab_type": "code",
        "colab": {
          "base_uri": "https://localhost:8080/",
          "height": 34
        },
        "outputId": "7d2133a4-cbf0-445f-e526-8fdd322b9854"
      },
      "source": [
        " a.clip(0,4)"
      ],
      "execution_count": null,
      "outputs": [
        {
          "output_type": "execute_result",
          "data": {
            "text/plain": [
              "array([77,  5])"
            ]
          },
          "metadata": {
            "tags": []
          },
          "execution_count": 54
        }
      ]
    },
    {
      "cell_type": "markdown",
      "metadata": {
        "id": "6Na3aQ-RKIl3",
        "colab_type": "text"
      },
      "source": [
        "# SciPy and Matplotlib\n",
        "**scipy : scientific toolkit**\n",
        "\n",
        "* Linear algebra\n",
        "* Interpolation\n",
        "* Optimization and fit\n",
        "* Statistics and random numbers\n",
        "* Numerical integration\n",
        "* Fast Fourier transforms\n",
        "* Signal processing\n",
        "* Image manipulation\n",
        "\n",
        "**matplotlib : visualizing data**\n"
      ]
    },
    {
      "cell_type": "markdown",
      "metadata": {
        "id": "1FZ-mVKkPi-b",
        "colab_type": "text"
      },
      "source": [
        "### Optimize and fit\n",
        "\n",
        "**Curve fitting: temperature as a function of month of the year**"
      ]
    },
    {
      "cell_type": "markdown",
      "metadata": {
        "id": "LpIVN13dQV-z",
        "colab_type": "text"
      },
      "source": [
        "Create data"
      ]
    },
    {
      "cell_type": "code",
      "metadata": {
        "id": "uHDQL81QPzm-",
        "colab_type": "code",
        "colab": {
          "base_uri": "https://localhost:8080/",
          "height": 296
        },
        "outputId": "bbc7767d-ed65-493b-af98-195f176ab4b9"
      },
      "source": [
        "temp_max = np.array([17,  19,  21,  28,  33,  38, 37,  37,  31,  23,  19,  18])\n",
        "temp_min = np.array([-62, -59, -56, -46, -32, -18, -9, -13, -25, -46, -52, -58])\n",
        "\n",
        "months = np.arange(12)\n",
        "plt.plot(months, temp_max, 'ro')\n",
        "plt.plot(months, temp_min, 'bo')\n",
        "plt.xlabel('Month')\n",
        "plt.ylabel('Min and max temperature')"
      ],
      "execution_count": 3,
      "outputs": [
        {
          "output_type": "execute_result",
          "data": {
            "text/plain": [
              "Text(0, 0.5, 'Min and max temperature')"
            ]
          },
          "metadata": {
            "tags": []
          },
          "execution_count": 3
        },
        {
          "output_type": "display_data",
          "data": {
            "image/png": "[encoded data removed]",
            "text/plain": [
              "<Figure size 432x288 with 1 Axes>"
            ]
          },
          "metadata": {
            "tags": [],
            "needs_background": "light"
          }
        }
      ]
    },
    {
      "cell_type": "markdown",
      "metadata": {
        "id": "UZSy7z5VQX_0",
        "colab_type": "text"
      },
      "source": [
        "Fit to a periodic function"
      ]
    },
    {
      "cell_type": "code",
      "metadata": {
        "id": "a7-8Af0cQYTe",
        "colab_type": "code",
        "colab": {}
      },
      "source": [
        "def yearly_temps(times, avg, ampl, time_offset):\n",
        "    return (avg\n",
        "            + ampl * np.cos((times + time_offset) * 2 * np.pi / times.max()))\n",
        "\n",
        "res_max, cov_max = sp.optimize.curve_fit(yearly_temps, months,\n",
        "                                      temp_max, [20, 10, 0])\n",
        "res_min, cov_min = sp.optimize.curve_fit(yearly_temps, months,\n",
        "                                      temp_min, [-40, 20, 0])"
      ],
      "execution_count": 4,
      "outputs": []
    },
    {
      "cell_type": "markdown",
      "metadata": {
        "id": "KmyKPpmCQg35",
        "colab_type": "text"
      },
      "source": [
        "Plot the fit"
      ]
    },
    {
      "cell_type": "code",
      "metadata": {
        "id": "5N_NRfc9Qieu",
        "colab_type": "code",
        "colab": {
          "base_uri": "https://localhost:8080/",
          "height": 279
        },
        "outputId": "d48784ef-36ee-4429-b357-46e5e26289e0"
      },
      "source": [
        "days = np.linspace(0, 12, num=365)\n",
        "\n",
        "plt.figure()\n",
        "plt.plot(months, temp_max, 'ro')\n",
        "plt.plot(days, yearly_temps(days, *res_max), 'r-')\n",
        "plt.plot(months, temp_min, 'bo')\n",
        "plt.plot(days, yearly_temps(days, *res_min), 'b-')\n",
        "plt.xlabel('Month')\n",
        "plt.ylabel('Temperature ($^\\circ$C)')\n",
        "\n",
        "plt.show()"
      ],
      "execution_count": 5,
      "outputs": [
        {
          "output_type": "display_data",
          "data": {
            "image/png": "[encoded data removed]",
            "text/plain": [
              "<Figure size 432x288 with 1 Axes>"
            ]
          },
          "metadata": {
            "tags": [],
            "needs_background": "light"
          }
        }
      ]
    },
    {
      "cell_type": "markdown",
      "metadata": {
        "id": "3QD64TzMecM_",
        "colab_type": "text"
      },
      "source": [
        "Let's use real data\n",
        "\n",
        "GLOBAL Land-Ocean Temperature Index in 0.01 degrees Celsius   base period: 1951-1980\n"
      ]
    },
    {
      "cell_type": "code",
      "metadata": {
        "id": "BfcEoP1Ged0R",
        "colab_type": "code",
        "colab": {
          "base_uri": "https://localhost:8080/",
          "height": 136
        },
        "outputId": "491b1626-58cb-45d4-8680-c6ef5f78ac41"
      },
      "source": [
        "# let's exclude the headers and only grab the monthly means\n",
        "data = np.genfromtxt(\n",
        "    \"https://data.giss.nasa.gov/gistemp/tabledata_v4/GLB.Ts+dSST.csv\",\n",
        "                     delimiter=',',skip_header=2, usecols = range(1,12))\n",
        "data = data[:-1]\n",
        "data"
      ],
      "execution_count": 21,
      "outputs": [
        {
          "output_type": "execute_result",
          "data": {
            "text/plain": [
              "array([[-0.17, -0.23, -0.08, ..., -0.13, -0.22, -0.21],\n",
              "       [-0.19, -0.13,  0.04, ..., -0.14, -0.2 , -0.17],\n",
              "       [ 0.18,  0.16,  0.06, ..., -0.13, -0.23, -0.15],\n",
              "       ...,\n",
              "       [ 1.03,  1.14,  1.16, ...,  0.79,  0.9 ,  0.89],\n",
              "       [ 0.82,  0.85,  0.9 , ...,  0.81,  1.01,  0.83],\n",
              "       [ 0.93,  0.96,  1.18, ...,  0.92,  1.02,  1.  ]])"
            ]
          },
          "metadata": {
            "tags": []
          },
          "execution_count": 21
        }
      ]
    },
    {
      "cell_type": "markdown",
      "metadata": {
        "id": "_gqBit-Ylg_i",
        "colab_type": "text"
      },
      "source": [
        "Plot color map"
      ]
    },
    {
      "cell_type": "code",
      "metadata": {
        "id": "Y7pstSfzlhsZ",
        "colab_type": "code",
        "colab": {
          "base_uri": "https://localhost:8080/",
          "height": 256
        },
        "outputId": "33f3d15a-6f19-4a33-dfbd-48178fed9f6b"
      },
      "source": [
        "plt.imshow(data, cmap=plt.cm.coolwarm, aspect=0.05)    \n",
        "plt.colorbar()\n",
        "plt.title(\"GLOBAL Land-Ocean Temp Index in 0.01 Celsius\")\n",
        "plt.xlabel(\"month\")\n",
        "plt.ylabel(\"year (1880 - )\")\n",
        "plt.show()"
      ],
      "execution_count": 22,
      "outputs": [
        {
          "output_type": "display_data",
          "data": {
            "image/png": "[encoded data removed]",
            "text/plain": [
              "<Figure size 432x288 with 2 Axes>"
            ]
          },
          "metadata": {
            "tags": [],
            "needs_background": "light"
          }
        }
      ]
    },
    {
      "cell_type": "markdown",
      "metadata": {
        "id": "i9YPFf2dt3Vv",
        "colab_type": "text"
      },
      "source": [
        "Flatten our data\n"
      ]
    },
    {
      "cell_type": "code",
      "metadata": {
        "id": "ljdGIWef7bvV",
        "colab_type": "code",
        "colab": {}
      },
      "source": [
        "year_data = data.flatten()\n",
        "year_data\n",
        "x = range(year_data.size)\n",
        "y = year_data"
      ],
      "execution_count": 23,
      "outputs": []
    },
    {
      "cell_type": "markdown",
      "metadata": {
        "id": "BaouCTpLKCjf",
        "colab_type": "text"
      },
      "source": [
        "Split data into train and test.\n",
        "We want to preserve the order here, so we can do predictions on the \"future\""
      ]
    },
    {
      "cell_type": "code",
      "metadata": {
        "id": "RLwxpj3EO7bX",
        "colab_type": "code",
        "colab": {}
      },
      "source": [
        "x_ind = int(len(x) * 0.80)\n",
        "y_ind = int(len(y) * 0.80)\n",
        "X_train = x[:x_ind]\n",
        "y_train = y[:y_ind]\n",
        "X_test = x[x_ind:]\n",
        "y_test = y[y_ind:]"
      ],
      "execution_count": 24,
      "outputs": []
    },
    {
      "cell_type": "markdown",
      "metadata": {
        "id": "eG9I-PfWLwKu",
        "colab_type": "text"
      },
      "source": [
        "error will be calculated as the squared distance of the model's prediction to the real data"
      ]
    },
    {
      "cell_type": "code",
      "metadata": {
        "id": "_boDCt-CLwm3",
        "colab_type": "code",
        "colab": {}
      },
      "source": [
        "def error(f, x, y):\n",
        " return np.sum((f(x)-y)**2)"
      ],
      "execution_count": 25,
      "outputs": []
    },
    {
      "cell_type": "markdown",
      "metadata": {
        "id": "cioIIpGJFxV6",
        "colab_type": "text"
      },
      "source": [
        "Plot line graph"
      ]
    },
    {
      "cell_type": "code",
      "metadata": {
        "id": "umf8RyyQrKIo",
        "colab_type": "code",
        "colab": {
          "base_uri": "https://localhost:8080/",
          "height": 499
        },
        "outputId": "baaa391f-6bb7-407a-9005-3a060ddf27b0"
      },
      "source": [
        "plt.scatter(X_train,y_train,alpha=0.1)\n",
        "plt.scatter(X_test,y_test,alpha=0.1)\n",
        "for i in [1,2,10,25]:\n",
        "  # training with least squares polynomial fit\n",
        "  fp1, residuals, rank, sv, rcond = np.polyfit(x, y, i, full=True)\n",
        "  f1 = np.poly1d(fp1) # this is our model\n",
        "  print(\"training error [d=%i] : %f \" % (i,error(f1, X_train, y_train)))\n",
        "  print(\"test error [d=%i] : %f \\n\" % (i,error(f1, X_test, y_test)))\n",
        "  fx = np.linspace(0,X_test[-1]) # generate X-values for plotting\n",
        "  line, = plt.plot(fx, f1(fx), linewidth=2)\n",
        "  line.set_label(\"d=%i\" % i) \n",
        "plt.legend()\n",
        "plt.title(\"GLOBAL Land-Ocean Temp Index in 0.01 Celsius\")\n",
        "plt.xlabel(\"Months (1880 - )\")\n",
        "plt.ylabel(\"Temp index in 0.01 Celsius\")\n",
        "plt.autoscale(tight=True)\n",
        "plt.grid()\n",
        "plt.show()"
      ],
      "execution_count": 29,
      "outputs": [
        {
          "output_type": "stream",
          "text": [
            "training error [d=1] : 45.696193 \n",
            "test error [d=1] : 17.753718 \n",
            "\n",
            "training error [d=2] : 30.623504 \n",
            "test error [d=2] : 6.674875 \n",
            "\n",
            "training error [d=10] : 23.888025 \n",
            "test error [d=10] : 6.104786 \n",
            "\n",
            "training error [d=25] : 22.487309 \n",
            "test error [d=25] : 5.432399 \n",
            "\n"
          ],
          "name": "stdout"
        },
        {
          "output_type": "display_data",
          "data": {
            "image/png": "[encoded data removed]",
            "text/plain": [
              "<Figure size 432x288 with 1 Axes>"
            ]
          },
          "metadata": {
            "tags": [],
            "needs_background": "light"
          }
        }
      ]
    }
  ]
}